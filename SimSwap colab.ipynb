{
 "cells": [
  {
   "cell_type": "markdown",
   "metadata": {
    "id": "7_gtFoV8BuRx"
   },
   "source": [
    "This is a simple example of SimSwap on processing video with multiple faces. You can change the codes for inference based on our other scripts for image or single face swapping.\n",
    "\n",
    "Code path: https://github.com/neuralchen/SimSwap\n",
    "\n",
    "Paper path: https://arxiv.org/pdf/2106.06340v1.pdf or https://dl.acm.org/doi/10.1145/3394171.3413630"
   ]
  },
  {
   "cell_type": "code",
   "execution_count": 1,
   "metadata": {
    "colab": {
     "base_uri": "https://localhost:8080/"
    },
    "id": "0Y1RfpzsCAl9",
    "outputId": "a39470a0-9689-409d-a0a4-e2afd5d3b5dd"
   },
   "outputs": [
    {
     "name": "stdout",
     "output_type": "stream",
     "text": [
      "Wed Dec 21 10:02:15 2022       \n",
      "+-----------------------------------------------------------------------------+\n",
      "| NVIDIA-SMI 517.66       Driver Version: 517.66       CUDA Version: 11.7     |\n",
      "|-------------------------------+----------------------+----------------------+\n",
      "| GPU  Name            TCC/WDDM | Bus-Id        Disp.A | Volatile Uncorr. ECC |\n",
      "| Fan  Temp  Perf  Pwr:Usage/Cap|         Memory-Usage | GPU-Util  Compute M. |\n",
      "|                               |                      |               MIG M. |\n",
      "|===============================+======================+======================|\n",
      "|   0  NVIDIA GeForce ... WDDM  | 00000000:2B:00.0 Off |                  N/A |\n",
      "| N/A   65C    P5    N/A /  N/A |    160MiB /  2048MiB |     11%      Default |\n",
      "|                               |                      |                  N/A |\n",
      "+-------------------------------+----------------------+----------------------+\n",
      "                                                                               \n",
      "+-----------------------------------------------------------------------------+\n",
      "| Processes:                                                                  |\n",
      "|  GPU   GI   CI        PID   Type   Process name                  GPU Memory |\n",
      "|        ID   ID                                                   Usage      |\n",
      "|=============================================================================|\n",
      "|    0   N/A  N/A      1976    C+G   ...8wekyb3d8bbwe\\Cortana.exe    N/A      |\n",
      "|    0   N/A  N/A     11476    C+G   ...462.54\\msedgewebview2.exe    N/A      |\n",
      "|    0   N/A  N/A     13540    C+G   ...462.54\\msedgewebview2.exe    N/A      |\n",
      "|    0   N/A  N/A     21132    C+G   ...2txyewy\\TextInputHost.exe    N/A      |\n",
      "|    0   N/A  N/A     21908    C+G   ...n1h2txyewy\\SearchHost.exe    N/A      |\n",
      "|    0   N/A  N/A     23472    C+G   ... WARP\\Cloudflare WARP.exe    N/A      |\n",
      "|    0   N/A  N/A     23952    C+G   ...e\\PhoneExperienceHost.exe    N/A      |\n",
      "|    0   N/A  N/A     25264    C+G   ...v1g1gvanyjgm\\WhatsApp.exe    N/A      |\n",
      "|    0   N/A  N/A     25540    C+G   ...artMenuExperienceHost.exe    N/A      |\n",
      "|    0   N/A  N/A     27404    C+G   ...8bbwe\\WindowsTerminal.exe    N/A      |\n",
      "|    0   N/A  N/A     28804    C+G   ...oft\\OneDrive\\OneDrive.exe    N/A      |\n",
      "|    0   N/A  N/A     29096    C+G   ...8wekyb3d8bbwe\\msteams.exe    N/A      |\n",
      "+-----------------------------------------------------------------------------+\n"
     ]
    }
   ],
   "source": [
    "## make sure you are using a runtime with GPU\n",
    "## you can check at Runtime/Change runtime type in the top bar.\n",
    "!nvidia-smi"
   ]
  },
  {
   "cell_type": "markdown",
   "metadata": {
    "id": "0Qzzx2UpDkqw"
   },
   "source": [
    "## Installation\n",
    "\n",
    "All file changes made by this notebook are temporary. \n",
    "You can try to mount your own google drive to store files if you want.\n"
   ]
  },
  {
   "cell_type": "code",
   "execution_count": 2,
   "metadata": {
    "colab": {
     "base_uri": "https://localhost:8080/"
    },
    "id": "VA_4CeWZCHLP",
    "outputId": "4b0f176f-87e7-4772-8b47-c2098d8f3bf6"
   },
   "outputs": [
    {
     "name": "stderr",
     "output_type": "stream",
     "text": [
      "fatal: destination path 'SimSwap' already exists and is not an empty directory.\n"
     ]
    },
    {
     "name": "stdout",
     "output_type": "stream",
     "text": [
      "Already up to date.\n"
     ]
    }
   ],
   "source": [
    "!git clone https://github.com/neuralchen/SimSwap\n",
    "!cd SimSwap && git pull"
   ]
  },
  {
   "cell_type": "code",
   "execution_count": 3,
   "metadata": {
    "colab": {
     "base_uri": "https://localhost:8080/"
    },
    "id": "Y5K4au_UCkKn",
    "outputId": "9691a7a4-192e-4ec2-c3c1-1f2c933d7b6a"
   },
   "outputs": [
    {
     "name": "stdout",
     "output_type": "stream",
     "text": [
      "Requirement already satisfied: insightface==0.2.1 in c:\\users\\muni sai\\anaconda3\\lib\\site-packages (0.2.1)\n",
      "Requirement already satisfied: onnxruntime in c:\\users\\muni sai\\anaconda3\\lib\\site-packages (1.13.1)\n",
      "Requirement already satisfied: moviepy in c:\\users\\muni sai\\anaconda3\\lib\\site-packages (1.0.3)\n",
      "Requirement already satisfied: Pillow in c:\\users\\muni sai\\anaconda3\\lib\\site-packages (from insightface==0.2.1) (9.0.1)\n",
      "Requirement already satisfied: opencv-python in c:\\users\\muni sai\\anaconda3\\lib\\site-packages (from insightface==0.2.1) (4.6.0.66)\n",
      "Requirement already satisfied: easydict in c:\\users\\muni sai\\anaconda3\\lib\\site-packages (from insightface==0.2.1) (1.10)\n",
      "Requirement already satisfied: requests in c:\\users\\muni sai\\anaconda3\\lib\\site-packages (from insightface==0.2.1) (2.27.1)\n",
      "Requirement already satisfied: numpy in c:\\users\\muni sai\\anaconda3\\lib\\site-packages (from insightface==0.2.1) (1.22.4)\n",
      "Requirement already satisfied: onnx in c:\\users\\muni sai\\anaconda3\\lib\\site-packages (from insightface==0.2.1) (1.12.0)\n",
      "Requirement already satisfied: scipy in c:\\users\\muni sai\\anaconda3\\lib\\site-packages (from insightface==0.2.1) (1.7.3)\n",
      "Requirement already satisfied: scikit-learn in c:\\users\\muni sai\\anaconda3\\lib\\site-packages (from insightface==0.2.1) (1.0.2)\n",
      "Requirement already satisfied: tqdm in c:\\users\\muni sai\\anaconda3\\lib\\site-packages (from insightface==0.2.1) (4.64.0)\n",
      "Requirement already satisfied: scikit-image in c:\\users\\muni sai\\anaconda3\\lib\\site-packages (from insightface==0.2.1) (0.19.2)\n",
      "Requirement already satisfied: matplotlib in c:\\users\\muni sai\\anaconda3\\lib\\site-packages (from insightface==0.2.1) (3.5.1)\n",
      "Requirement already satisfied: protobuf in c:\\users\\muni sai\\anaconda3\\lib\\site-packages (from onnxruntime) (3.19.1)\n",
      "Requirement already satisfied: coloredlogs in c:\\users\\muni sai\\anaconda3\\lib\\site-packages (from onnxruntime) (15.0.1)\n",
      "Requirement already satisfied: flatbuffers in c:\\users\\muni sai\\anaconda3\\lib\\site-packages (from onnxruntime) (22.10.26)\n",
      "Requirement already satisfied: sympy in c:\\users\\muni sai\\anaconda3\\lib\\site-packages (from onnxruntime) (1.10.1)\n",
      "Requirement already satisfied: packaging in c:\\users\\muni sai\\anaconda3\\lib\\site-packages (from onnxruntime) (21.3)\n",
      "Collecting imageio<3.0,>=2.5\n",
      "  Using cached imageio-2.23.0-py3-none-any.whl (3.4 MB)\n",
      "Requirement already satisfied: imageio-ffmpeg>=0.2.0 in c:\\users\\muni sai\\anaconda3\\lib\\site-packages (from moviepy) (0.4.7)\n",
      "Requirement already satisfied: decorator<5.0,>=4.0.2 in c:\\users\\muni sai\\anaconda3\\lib\\site-packages (from moviepy) (4.4.2)\n",
      "Requirement already satisfied: proglog<=1.0.0 in c:\\users\\muni sai\\anaconda3\\lib\\site-packages (from moviepy) (0.1.10)\n",
      "Requirement already satisfied: charset-normalizer~=2.0.0 in c:\\users\\muni sai\\anaconda3\\lib\\site-packages (from requests->insightface==0.2.1) (2.0.4)\n",
      "Requirement already satisfied: certifi>=2017.4.17 in c:\\users\\muni sai\\anaconda3\\lib\\site-packages (from requests->insightface==0.2.1) (2021.10.8)\n",
      "Requirement already satisfied: urllib3<1.27,>=1.21.1 in c:\\users\\muni sai\\anaconda3\\lib\\site-packages (from requests->insightface==0.2.1) (1.26.9)\n",
      "Requirement already satisfied: idna<4,>=2.5 in c:\\users\\muni sai\\anaconda3\\lib\\site-packages (from requests->insightface==0.2.1) (3.3)\n",
      "Requirement already satisfied: colorama in c:\\users\\muni sai\\anaconda3\\lib\\site-packages (from tqdm->insightface==0.2.1) (0.4.4)\n",
      "Requirement already satisfied: humanfriendly>=9.1 in c:\\users\\muni sai\\anaconda3\\lib\\site-packages (from coloredlogs->onnxruntime) (10.0)\n",
      "Requirement already satisfied: kiwisolver>=1.0.1 in c:\\users\\muni sai\\anaconda3\\lib\\site-packages (from matplotlib->insightface==0.2.1) (1.3.2)\n",
      "Requirement already satisfied: python-dateutil>=2.7 in c:\\users\\muni sai\\anaconda3\\lib\\site-packages (from matplotlib->insightface==0.2.1) (2.8.2)\n",
      "Requirement already satisfied: pyparsing>=2.2.1 in c:\\users\\muni sai\\anaconda3\\lib\\site-packages (from matplotlib->insightface==0.2.1) (3.0.4)\n",
      "Requirement already satisfied: cycler>=0.10 in c:\\users\\muni sai\\anaconda3\\lib\\site-packages (from matplotlib->insightface==0.2.1) (0.11.0)\n",
      "Requirement already satisfied: fonttools>=4.22.0 in c:\\users\\muni sai\\anaconda3\\lib\\site-packages (from matplotlib->insightface==0.2.1) (4.25.0)\n",
      "Requirement already satisfied: typing-extensions>=3.6.2.1 in c:\\users\\muni sai\\anaconda3\\lib\\site-packages (from onnx->insightface==0.2.1) (4.1.1)\n",
      "Requirement already satisfied: PyWavelets>=1.1.1 in c:\\users\\muni sai\\anaconda3\\lib\\site-packages (from scikit-image->insightface==0.2.1) (1.3.0)\n",
      "Requirement already satisfied: tifffile>=2019.7.26 in c:\\users\\muni sai\\anaconda3\\lib\\site-packages (from scikit-image->insightface==0.2.1) (2021.7.2)\n",
      "Requirement already satisfied: networkx>=2.2 in c:\\users\\muni sai\\anaconda3\\lib\\site-packages (from scikit-image->insightface==0.2.1) (2.7.1)\n",
      "Requirement already satisfied: joblib>=0.11 in c:\\users\\muni sai\\anaconda3\\lib\\site-packages (from scikit-learn->insightface==0.2.1) (1.1.0)\n",
      "Requirement already satisfied: threadpoolctl>=2.0.0 in c:\\users\\muni sai\\anaconda3\\lib\\site-packages (from scikit-learn->insightface==0.2.1) (2.2.0)\n",
      "Requirement already satisfied: mpmath>=0.19 in c:\\users\\muni sai\\anaconda3\\lib\\site-packages (from sympy->onnxruntime) (1.2.1)\n",
      "Requirement already satisfied: pyreadline3 in c:\\users\\muni sai\\anaconda3\\lib\\site-packages (from humanfriendly>=9.1->coloredlogs->onnxruntime) (3.4.1)\n",
      "Requirement already satisfied: six>=1.5 in c:\\users\\muni sai\\anaconda3\\lib\\site-packages (from python-dateutil>=2.7->matplotlib->insightface==0.2.1) (1.16.0)\n",
      "Installing collected packages: imageio\n",
      "  Attempting uninstall: imageio\n",
      "    Found existing installation: imageio 2.4.1\n",
      "    Uninstalling imageio-2.4.1:\n",
      "      Successfully uninstalled imageio-2.4.1\n",
      "Successfully installed imageio-2.23.0\n",
      "Requirement already satisfied: googledrivedownloader in c:\\users\\muni sai\\anaconda3\\lib\\site-packages (0.4)\n",
      "Collecting imageio==2.4.1\n",
      "  Using cached imageio-2.4.1-py3-none-any.whl\n",
      "Requirement already satisfied: numpy in c:\\users\\muni sai\\anaconda3\\lib\\site-packages (from imageio==2.4.1) (1.22.4)\n",
      "Requirement already satisfied: pillow in c:\\users\\muni sai\\anaconda3\\lib\\site-packages (from imageio==2.4.1) (9.0.1)\n",
      "Installing collected packages: imageio\n",
      "  Attempting uninstall: imageio\n",
      "    Found existing installation: imageio 2.23.0"
     ]
    },
    {
     "name": "stderr",
     "output_type": "stream",
     "text": [
      "ERROR: pip's dependency resolver does not currently take into account all the packages that are installed. This behaviour is the source of the following dependency conflicts.\n",
      "moviepy 1.0.3 requires imageio<3.0,>=2.5; python_version >= \"3.4\", but you have imageio 2.4.1 which is incompatible.\n"
     ]
    },
    {
     "name": "stdout",
     "output_type": "stream",
     "text": [
      "\n",
      "    Uninstalling imageio-2.23.0:\n",
      "      Successfully uninstalled imageio-2.23.0\n",
      "Successfully installed imageio-2.4.1\n"
     ]
    }
   ],
   "source": [
    "!pip install insightface==0.2.1 onnxruntime moviepy\n",
    "!pip install googledrivedownloader\n",
    "!pip install imageio==2.4.1"
   ]
  },
  {
   "cell_type": "code",
   "execution_count": 4,
   "metadata": {
    "colab": {
     "base_uri": "https://localhost:8080/"
    },
    "id": "gQ7ZoIbLFCye",
    "outputId": "bb35e7e2-14b7-4f36-d62a-499ba041cf64"
   },
   "outputs": [
    {
     "name": "stderr",
     "output_type": "stream",
     "text": [
      "'ls' is not recognized as an internal or external command,\n",
      "operable program or batch file.\n"
     ]
    }
   ],
   "source": [
    "import os\n",
    "os.chdir(\"SimSwap\")\n",
    "!ls"
   ]
  },
  {
   "cell_type": "code",
   "execution_count": 5,
   "metadata": {
    "colab": {
     "base_uri": "https://localhost:8080/"
    },
    "id": "gLti1J0pEFjJ",
    "outputId": "e93c3f98-01df-458e-b791-c32f7343e705"
   },
   "outputs": [
    {
     "name": "stderr",
     "output_type": "stream",
     "text": [
      "'wget' is not recognized as an internal or external command,\n",
      "operable program or batch file.\n",
      "'wget' is not recognized as an internal or external command,\n",
      "operable program or batch file.\n",
      "'unzip' is not recognized as an internal or external command,\n",
      "operable program or batch file.\n",
      "'wget' is not recognized as an internal or external command,\n",
      "operable program or batch file.\n"
     ]
    }
   ],
   "source": [
    "from google_drive_downloader import GoogleDriveDownloader\n",
    "\n",
    "### it seems that google drive link may not be permenant, you can find this ID from our open url.\n",
    "# GoogleDriveDownloader.download_file_from_google_drive(file_id='1TLNdIufzwesDbyr_nVTR7Zrx9oRHLM_N',\n",
    "#                                     dest_path='./arcface_model/arcface_checkpoint.tar')\n",
    "# GoogleDriveDownloader.download_file_from_google_drive(file_id='1PXkRiBUYbu1xWpQyDEJvGKeqqUFthJcI',\n",
    "#                                     dest_path='./checkpoints.zip')\n",
    "\n",
    "!wget -P ./arcface_model https://github.com/neuralchen/SimSwap/releases/download/1.0/arcface_checkpoint.tar\n",
    "!wget https://github.com/neuralchen/SimSwap/releases/download/1.0/checkpoints.zip\n",
    "!unzip ./checkpoints.zip  -d ./checkpoints\n",
    "!wget -P ./parsing_model/checkpoint https://github.com/neuralchen/SimSwap/releases/download/1.0/79999_iter.pth"
   ]
  },
  {
   "cell_type": "code",
   "execution_count": 6,
   "metadata": {
    "colab": {
     "base_uri": "https://localhost:8080/"
    },
    "id": "aSRnK5V4HI-k",
    "outputId": "e688746c-c33a-485c-808c-54a7370f0c53"
   },
   "outputs": [
    {
     "name": "stderr",
     "output_type": "stream",
     "text": [
      "'wget' is not recognized as an internal or external command,\n",
      "operable program or batch file.\n",
      "'unzip' is not recognized as an internal or external command,\n",
      "operable program or batch file.\n"
     ]
    }
   ],
   "source": [
    "## You can upload filed manually\n",
    "# from google.colab import drive\n",
    "# drive.mount('/content/gdrive')\n",
    "\n",
    "### Now onedrive file can be downloaded in Colab directly!\n",
    "### If the link blow is not permanent, you can just download it from the \n",
    "### open url(can be found at [our repo]/doc/guidance/preparation.md) and copy the assigned download link here.\n",
    "### many thanks to woctezuma for this very useful help\n",
    "!wget --no-check-certificate \"https://sh23tw.dm.files.1drv.com/y4mmGiIkNVigkSwOKDcV3nwMJulRGhbtHdkheehR5TArc52UjudUYNXAEvKCii2O5LAmzGCGK6IfleocxuDeoKxDZkNzDRSt4ZUlEt8GlSOpCXAFEkBwaZimtWGDRbpIGpb_pz9Nq5jATBQpezBS6G_UtspWTkgrXHHxhviV2nWy8APPx134zOZrUIbkSF6xnsqzs3uZ_SEX_m9Rey0ykpx9w\" -O antelope.zip\n",
    "!unzip ./antelope.zip -d ./insightface_func/models/\n"
   ]
  },
  {
   "cell_type": "code",
   "execution_count": 7,
   "metadata": {},
   "outputs": [
    {
     "name": "stdout",
     "output_type": "stream",
     "text": [
      "Requirement already satisfied: imageio in c:\\users\\muni sai\\anaconda3\\lib\\site-packages (2.4.1)\n",
      "Requirement already satisfied: numpy in c:\\users\\muni sai\\anaconda3\\lib\\site-packages (from imageio) (1.22.4)\n",
      "Requirement already satisfied: pillow in c:\\users\\muni sai\\anaconda3\\lib\\site-packages (from imageio) (9.0.1)\n"
     ]
    }
   ],
   "source": [
    "!pip install imageio"
   ]
  },
  {
   "cell_type": "code",
   "execution_count": 8,
   "metadata": {},
   "outputs": [],
   "source": [
    "import imageio\n",
    "imageio.plugins.ffmpeg.download()"
   ]
  },
  {
   "cell_type": "markdown",
   "metadata": {
    "id": "BsGmIMxLVxyO"
   },
   "source": [
    "## Inference"
   ]
  },
  {
   "cell_type": "code",
   "execution_count": 9,
   "metadata": {
    "colab": {
     "base_uri": "https://localhost:8080/"
    },
    "id": "PfSsND36EMvn",
    "outputId": "f28c98fd-4c6d-40fa-e3c7-99b606c7492a"
   },
   "outputs": [],
   "source": [
    "import cv2\n",
    "import torch\n",
    "import fractions\n",
    "import numpy as np\n",
    "from PIL import Image\n",
    "import torch.nn.functional as F\n",
    "from torchvision import transforms\n",
    "from models.models import create_model\n",
    "from options.test_options import TestOptions\n",
    "from insightface_func.face_detect_crop_multi import Face_detect_crop\n",
    "from util.videoswap import video_swap\n",
    "from util.add_watermark import watermark_image"
   ]
  },
  {
   "cell_type": "code",
   "execution_count": 10,
   "metadata": {
    "id": "rxSbZ2EDNDlf"
   },
   "outputs": [],
   "source": [
    "transformer = transforms.Compose([\n",
    "        transforms.ToTensor(),\n",
    "        #transforms.Normalize([0.485, 0.456, 0.406], [0.229, 0.224, 0.225])\n",
    "    ])\n",
    "\n",
    "transformer_Arcface = transforms.Compose([\n",
    "        transforms.ToTensor(),\n",
    "        transforms.Normalize([0.485, 0.456, 0.406], [0.229, 0.224, 0.225])\n",
    "    ])\n",
    "\n",
    "detransformer = transforms.Compose([\n",
    "        transforms.Normalize([0, 0, 0], [1/0.229, 1/0.224, 1/0.225]),\n",
    "        transforms.Normalize([-0.485, -0.456, -0.406], [1, 1, 1])\n",
    "    ])"
   ]
  },
  {
   "cell_type": "code",
   "execution_count": 19,
   "metadata": {
    "colab": {
     "base_uri": "https://localhost:8080/"
    },
    "id": "wwJOwR9LNKRz",
    "outputId": "bdc82f7b-21c4-403f-94d1-b92911698b4a"
   },
   "outputs": [
    {
     "name": "stdout",
     "output_type": "stream",
     "text": [
      "------------ Options -------------\n",
      "Arc_path: models/BEST_checkpoint.tar\n",
      "aspect_ratio: 1.0\n",
      "batchSize: 8\n",
      "checkpoints_dir: ./checkpoints\n",
      "cluster_path: features_clustered_010.npy\n",
      "crop_size: 224\n",
      "data_type: 32\n",
      "dataroot: ./datasets/cityscapes/\n",
      "display_winsize: 512\n",
      "engine: None\n",
      "export_onnx: None\n",
      "f: C:\\Users\\MUNI SAI\\AppData\\Roaming\\jupyter\\runtime\\kernel-b455de8b-c283-4a0e-b0c1-ec2f7748d416.json\n",
      "feat_num: 3\n",
      "fineSize: 512\n",
      "fp16: False\n",
      "gpu_ids: [0]\n",
      "how_many: 50\n",
      "id_thres: 0.03\n",
      "image_size: 224\n",
      "input_nc: 3\n",
      "instance_feat: False\n",
      "isTrain: False\n",
      "label_feat: False\n",
      "label_nc: 0\n",
      "latent_size: 512\n",
      "loadSize: 1024\n",
      "load_features: False\n",
      "local_rank: 0\n",
      "max_dataset_size: inf\n",
      "model: pix2pixHD\n",
      "multisepcific_dir: ./demo_file/multispecific\n",
      "nThreads: 2\n",
      "n_blocks_global: 6\n",
      "n_blocks_local: 3\n",
      "n_clusters: 10\n",
      "n_downsample_E: 4\n",
      "n_downsample_global: 3\n",
      "n_local_enhancers: 1\n",
      "name: people\n",
      "nef: 16\n",
      "netG: global\n",
      "ngf: 64\n",
      "niter_fix_global: 0\n",
      "no_flip: False\n",
      "no_instance: False\n",
      "no_simswaplogo: False\n",
      "norm: batch\n",
      "norm_G: spectralspadesyncbatch3x3\n",
      "ntest: inf\n",
      "onnx: None\n",
      "output_nc: 3\n",
      "output_path: ./output/\n",
      "phase: test\n",
      "pic_a_path: ./crop_224/gdg.jpg\n",
      "pic_b_path: ./crop_224/zrf.jpg\n",
      "pic_specific_path: ./crop_224/zrf.jpg\n",
      "resize_or_crop: scale_width\n",
      "results_dir: ./results/\n",
      "semantic_nc: 3\n",
      "serial_batches: False\n",
      "temp_path: ./temp_results\n",
      "tf_log: False\n",
      "use_dropout: False\n",
      "use_encoded_image: False\n",
      "use_mask: False\n",
      "verbose: False\n",
      "video_path: ./demo_file/multi_people_1080p.mp4\n",
      "which_epoch: latest\n",
      "-------------- End ----------------\n"
     ]
    },
    {
     "ename": "PermissionError",
     "evalue": "[Errno 13] Permission denied: './data'",
     "output_type": "error",
     "traceback": [
      "\u001b[1;31m---------------------------------------------------------------------------\u001b[0m",
      "\u001b[1;31mPermissionError\u001b[0m                           Traceback (most recent call last)",
      "Input \u001b[1;32mIn [19]\u001b[0m, in \u001b[0;36m<cell line: 16>\u001b[1;34m()\u001b[0m\n\u001b[0;32m     13\u001b[0m crop_size \u001b[38;5;241m=\u001b[39m opt\u001b[38;5;241m.\u001b[39mcrop_size\n\u001b[0;32m     15\u001b[0m torch\u001b[38;5;241m.\u001b[39mnn\u001b[38;5;241m.\u001b[39mModule\u001b[38;5;241m.\u001b[39mdump_patches \u001b[38;5;241m=\u001b[39m \u001b[38;5;28;01mTrue\u001b[39;00m\n\u001b[1;32m---> 16\u001b[0m model \u001b[38;5;241m=\u001b[39m \u001b[43mcreate_model\u001b[49m\u001b[43m(\u001b[49m\u001b[43mopt\u001b[49m\u001b[43m)\u001b[49m\n\u001b[0;32m     17\u001b[0m model\u001b[38;5;241m.\u001b[39meval()\n\u001b[0;32m     19\u001b[0m app \u001b[38;5;241m=\u001b[39m Face_detect_crop(name\u001b[38;5;241m=\u001b[39m\u001b[38;5;124m'\u001b[39m\u001b[38;5;124mantelope\u001b[39m\u001b[38;5;124m'\u001b[39m, root\u001b[38;5;241m=\u001b[39m\u001b[38;5;124m'\u001b[39m\u001b[38;5;124m./insightface_func/models\u001b[39m\u001b[38;5;124m'\u001b[39m)\n",
      "File \u001b[1;32m~\\SimSwap\\models\\models.py:18\u001b[0m, in \u001b[0;36mcreate_model\u001b[1;34m(opt)\u001b[0m\n\u001b[0;32m     15\u001b[0m     \u001b[38;5;28;01mfrom\u001b[39;00m \u001b[38;5;21;01m.\u001b[39;00m\u001b[38;5;21;01mui_model\u001b[39;00m \u001b[38;5;28;01mimport\u001b[39;00m UIModel\n\u001b[0;32m     16\u001b[0m     model \u001b[38;5;241m=\u001b[39m UIModel()\n\u001b[1;32m---> 18\u001b[0m \u001b[43mmodel\u001b[49m\u001b[38;5;241;43m.\u001b[39;49m\u001b[43minitialize\u001b[49m\u001b[43m(\u001b[49m\u001b[43mopt\u001b[49m\u001b[43m)\u001b[49m\n\u001b[0;32m     19\u001b[0m \u001b[38;5;28;01mif\u001b[39;00m opt\u001b[38;5;241m.\u001b[39mverbose:\n\u001b[0;32m     20\u001b[0m     \u001b[38;5;28mprint\u001b[39m(\u001b[38;5;124m\"\u001b[39m\u001b[38;5;124mmodel [\u001b[39m\u001b[38;5;132;01m%s\u001b[39;00m\u001b[38;5;124m] was created\u001b[39m\u001b[38;5;124m\"\u001b[39m \u001b[38;5;241m%\u001b[39m (model\u001b[38;5;241m.\u001b[39mname()))\n",
      "File \u001b[1;32m~\\SimSwap\\models\\fs_model.py:67\u001b[0m, in \u001b[0;36mfsModel.initialize\u001b[1;34m(self, opt)\u001b[0m\n\u001b[0;32m     65\u001b[0m \u001b[38;5;66;03m# Id network\u001b[39;00m\n\u001b[0;32m     66\u001b[0m netArc_checkpoint \u001b[38;5;241m=\u001b[39m opt\u001b[38;5;241m.\u001b[39mArc_path\n\u001b[1;32m---> 67\u001b[0m netArc_checkpoint \u001b[38;5;241m=\u001b[39m \u001b[43mtorch\u001b[49m\u001b[38;5;241;43m.\u001b[39;49m\u001b[43mload\u001b[49m\u001b[43m(\u001b[49m\u001b[43mnetArc_checkpoint\u001b[49m\u001b[43m)\u001b[49m\n\u001b[0;32m     68\u001b[0m \u001b[38;5;28mself\u001b[39m\u001b[38;5;241m.\u001b[39mnetArc \u001b[38;5;241m=\u001b[39m netArc_checkpoint[\u001b[38;5;124m'\u001b[39m\u001b[38;5;124mmodel\u001b[39m\u001b[38;5;124m'\u001b[39m]\u001b[38;5;241m.\u001b[39mmodule\n\u001b[0;32m     69\u001b[0m \u001b[38;5;28mself\u001b[39m\u001b[38;5;241m.\u001b[39mnetArc \u001b[38;5;241m=\u001b[39m \u001b[38;5;28mself\u001b[39m\u001b[38;5;241m.\u001b[39mnetArc\u001b[38;5;241m.\u001b[39mto(device)\n",
      "File \u001b[1;32m~\\anaconda3\\lib\\site-packages\\torch\\serialization.py:699\u001b[0m, in \u001b[0;36mload\u001b[1;34m(f, map_location, pickle_module, **pickle_load_args)\u001b[0m\n\u001b[0;32m    696\u001b[0m \u001b[38;5;28;01mif\u001b[39;00m \u001b[38;5;124m'\u001b[39m\u001b[38;5;124mencoding\u001b[39m\u001b[38;5;124m'\u001b[39m \u001b[38;5;129;01mnot\u001b[39;00m \u001b[38;5;129;01min\u001b[39;00m pickle_load_args\u001b[38;5;241m.\u001b[39mkeys():\n\u001b[0;32m    697\u001b[0m     pickle_load_args[\u001b[38;5;124m'\u001b[39m\u001b[38;5;124mencoding\u001b[39m\u001b[38;5;124m'\u001b[39m] \u001b[38;5;241m=\u001b[39m \u001b[38;5;124m'\u001b[39m\u001b[38;5;124mutf-8\u001b[39m\u001b[38;5;124m'\u001b[39m\n\u001b[1;32m--> 699\u001b[0m \u001b[38;5;28;01mwith\u001b[39;00m \u001b[43m_open_file_like\u001b[49m\u001b[43m(\u001b[49m\u001b[43mf\u001b[49m\u001b[43m,\u001b[49m\u001b[43m \u001b[49m\u001b[38;5;124;43m'\u001b[39;49m\u001b[38;5;124;43mrb\u001b[39;49m\u001b[38;5;124;43m'\u001b[39;49m\u001b[43m)\u001b[49m \u001b[38;5;28;01mas\u001b[39;00m opened_file:\n\u001b[0;32m    700\u001b[0m     \u001b[38;5;28;01mif\u001b[39;00m _is_zipfile(opened_file):\n\u001b[0;32m    701\u001b[0m         \u001b[38;5;66;03m# The zipfile reader is going to advance the current file position.\u001b[39;00m\n\u001b[0;32m    702\u001b[0m         \u001b[38;5;66;03m# If we want to actually tail call to torch.jit.load, we need to\u001b[39;00m\n\u001b[0;32m    703\u001b[0m         \u001b[38;5;66;03m# reset back to the original position.\u001b[39;00m\n\u001b[0;32m    704\u001b[0m         orig_position \u001b[38;5;241m=\u001b[39m opened_file\u001b[38;5;241m.\u001b[39mtell()\n",
      "File \u001b[1;32m~\\anaconda3\\lib\\site-packages\\torch\\serialization.py:231\u001b[0m, in \u001b[0;36m_open_file_like\u001b[1;34m(name_or_buffer, mode)\u001b[0m\n\u001b[0;32m    229\u001b[0m \u001b[38;5;28;01mdef\u001b[39;00m \u001b[38;5;21m_open_file_like\u001b[39m(name_or_buffer, mode):\n\u001b[0;32m    230\u001b[0m     \u001b[38;5;28;01mif\u001b[39;00m _is_path(name_or_buffer):\n\u001b[1;32m--> 231\u001b[0m         \u001b[38;5;28;01mreturn\u001b[39;00m \u001b[43m_open_file\u001b[49m\u001b[43m(\u001b[49m\u001b[43mname_or_buffer\u001b[49m\u001b[43m,\u001b[49m\u001b[43m \u001b[49m\u001b[43mmode\u001b[49m\u001b[43m)\u001b[49m\n\u001b[0;32m    232\u001b[0m     \u001b[38;5;28;01melse\u001b[39;00m:\n\u001b[0;32m    233\u001b[0m         \u001b[38;5;28;01mif\u001b[39;00m \u001b[38;5;124m'\u001b[39m\u001b[38;5;124mw\u001b[39m\u001b[38;5;124m'\u001b[39m \u001b[38;5;129;01min\u001b[39;00m mode:\n",
      "File \u001b[1;32m~\\anaconda3\\lib\\site-packages\\torch\\serialization.py:212\u001b[0m, in \u001b[0;36m_open_file.__init__\u001b[1;34m(self, name, mode)\u001b[0m\n\u001b[0;32m    211\u001b[0m \u001b[38;5;28;01mdef\u001b[39;00m \u001b[38;5;21m__init__\u001b[39m(\u001b[38;5;28mself\u001b[39m, name, mode):\n\u001b[1;32m--> 212\u001b[0m     \u001b[38;5;28msuper\u001b[39m(_open_file, \u001b[38;5;28mself\u001b[39m)\u001b[38;5;241m.\u001b[39m\u001b[38;5;21m__init__\u001b[39m(\u001b[38;5;28;43mopen\u001b[39;49m\u001b[43m(\u001b[49m\u001b[43mname\u001b[49m\u001b[43m,\u001b[49m\u001b[43m \u001b[49m\u001b[43mmode\u001b[49m\u001b[43m)\u001b[49m)\n",
      "\u001b[1;31mPermissionError\u001b[0m: [Errno 13] Permission denied: './data'"
     ]
    }
   ],
   "source": [
    "opt = TestOptions()\n",
    "opt.initialize()\n",
    "opt.parser.add_argument('-f') ## dummy arg to avoid bug\n",
    "opt = opt.parse()\n",
    "opt.pic_a_path = './demo_file/Iron_man.jpg' ## or replace it with image from your own google drive\n",
    "opt.video_path = './demo_file/multi_people_1080p.mp4' ## or replace it with video from your own google drive\n",
    "opt.output_path = './output/demo.mp4'\n",
    "opt.temp_path = './tmp'\n",
    "opt.Arc_path = \"./arcface_model/arcface_checkpoint.tar\"\n",
    "opt.isTrain = False\n",
    "opt.use_mask = True  ## new feature up-to-date\n",
    "\n",
    "crop_size = opt.crop_size\n",
    "\n",
    "torch.nn.Module.dump_patches = True\n",
    "model = create_model(opt)\n",
    "model.eval()\n",
    "\n",
    "app = Face_detect_crop(name='antelope', root='./insightface_func/models')\n",
    "app.prepare(ctx_id= 0, det_thresh=0.6, det_size=(640,640))\n",
    "\n",
    "with torch.no_grad():\n",
    "    pic_a = opt.pic_a_path\n",
    "    # img_a = Image.open(pic_a).convert('RGB')\n",
    "    img_a_whole = cv2.imread(pic_a)\n",
    "    img_a_align_crop, _ = app.get(img_a_whole,crop_size)\n",
    "    img_a_align_crop_pil = Image.fromarray(cv2.cvtColor(img_a_align_crop[0],cv2.COLOR_BGR2RGB)) \n",
    "    img_a = transformer_Arcface(img_a_align_crop_pil)\n",
    "    img_id = img_a.view(-1, img_a.shape[0], img_a.shape[1], img_a.shape[2])\n",
    "\n",
    "    # convert numpy to tensor\n",
    "    img_id = img_id.cuda()\n",
    "\n",
    "    #create latent id\n",
    "    img_id_downsample = F.interpolate(img_id, size=(112,112))\n",
    "    latend_id = model.netArc(img_id_downsample)\n",
    "    latend_id = latend_id.detach().to('cpu')\n",
    "    latend_id = latend_id/np.linalg.norm(latend_id,axis=1,keepdims=True)\n",
    "    latend_id = latend_id.to('cuda')\n",
    "\n",
    "    video_swap(opt.video_path, latend_id, model, app, opt.output_path, temp_results_dir=opt.temp_path, use_mask=opt.use_mask)"
   ]
  },
  {
   "cell_type": "code",
   "execution_count": null,
   "metadata": {
    "id": "Rty2GsyZZrI6"
   },
   "outputs": [],
   "source": []
  },
  {
   "cell_type": "code",
   "execution_count": null,
   "metadata": {},
   "outputs": [],
   "source": []
  }
 ],
 "metadata": {
  "accelerator": "GPU",
  "colab": {
   "collapsed_sections": [],
   "name": "SimSwap colab.ipynb",
   "provenance": []
  },
  "kernelspec": {
   "display_name": "Python 3 (ipykernel)",
   "language": "python",
   "name": "python3"
  },
  "language_info": {
   "codemirror_mode": {
    "name": "ipython",
    "version": 3
   },
   "file_extension": ".py",
   "mimetype": "text/x-python",
   "name": "python",
   "nbconvert_exporter": "python",
   "pygments_lexer": "ipython3",
   "version": "3.9.12"
  }
 },
 "nbformat": 4,
 "nbformat_minor": 1
}
